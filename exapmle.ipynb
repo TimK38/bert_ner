{
 "cells": [
  {
   "cell_type": "code",
   "execution_count": 3,
   "id": "1a3c0578-ba5b-481a-b423-72f88e9fe7b7",
   "metadata": {},
   "outputs": [],
   "source": [
    "# Loadind data "
   ]
  },
  {
   "cell_type": "code",
   "execution_count": 1,
   "id": "b5dd0ab3-f868-4e51-adcc-8cd2aa20e049",
   "metadata": {},
   "outputs": [],
   "source": [
    "from module.LoadData import load_data, decide_entity_label"
   ]
  },
  {
   "cell_type": "code",
   "execution_count": 2,
   "id": "b466998e-0eae-4e38-8d9a-4a8ada5e7ac7",
   "metadata": {},
   "outputs": [],
   "source": [
    "ld = load_data()"
   ]
  },
  {
   "cell_type": "code",
   "execution_count": 3,
   "id": "720d0118-c4fd-4b63-8eb0-99b4b0fc4848",
   "metadata": {},
   "outputs": [
    {
     "name": "stderr",
     "output_type": "stream",
     "text": [
      "Reusing dataset conll2012_ontonotesv5 (C:\\Users\\User\\.cache\\huggingface\\datasets\\conll2012_ontonotesv5\\chinese_v4\\1.0.0\\c541e760a5983b07e403e77ccf1f10864a6ae3e3dc0b994112eff9f217198c65)\n"
     ]
    }
   ],
   "source": [
    "#df_train = ld.Load_Data(\"conll2012_ontonotesv5\",\"train\")\n",
    "df_train = ld.Load_Data(\"conll2012_ontonotesv5\",\"test\")\n",
    "#df_valid = ld.Load_Data(\"conll2012_ontonotesv5\",\"validation\")"
   ]
  },
  {
   "cell_type": "code",
   "execution_count": 4,
   "id": "a56e1d33-1ae4-43d0-90f8-e164a1bf7b2c",
   "metadata": {},
   "outputs": [],
   "source": [
    "del_ = decide_entity_label('EVENT')\n",
    "df_train = del_.Decide_Entity_Label(df_train)"
   ]
  },
  {
   "cell_type": "code",
   "execution_count": 5,
   "id": "e3b82ad6-22ca-4662-b4b8-4fdc1f799945",
   "metadata": {
    "tags": []
   },
   "outputs": [
    {
     "data": {
      "text/html": [
       "<div>\n",
       "<style scoped>\n",
       "    .dataframe tbody tr th:only-of-type {\n",
       "        vertical-align: middle;\n",
       "    }\n",
       "\n",
       "    .dataframe tbody tr th {\n",
       "        vertical-align: top;\n",
       "    }\n",
       "\n",
       "    .dataframe thead th {\n",
       "        text-align: right;\n",
       "    }\n",
       "</style>\n",
       "<table border=\"1\" class=\"dataframe\">\n",
       "  <thead>\n",
       "    <tr style=\"text-align: right;\">\n",
       "      <th></th>\n",
       "      <th>tags_encoding</th>\n",
       "      <th>words</th>\n",
       "    </tr>\n",
       "  </thead>\n",
       "  <tbody>\n",
       "    <tr>\n",
       "      <th>0</th>\n",
       "      <td>[O, O, O, O, O, O, O, O, O, O, O, O, O, O, O, ...</td>\n",
       "      <td>[各, 位, 好, ,, 歡, 迎, 您, 收, 看, 國, 際, 頻, 道, 的, 今, ...</td>\n",
       "    </tr>\n",
       "    <tr>\n",
       "      <th>1</th>\n",
       "      <td>[O, O, O, O, O, O, O, O, O, O, O, O, O, O, O, ...</td>\n",
       "      <td>[流, 感, ,, 我, 想, 這, 呢, 應, 該, 是, 非, 常, 正, 確, 的, ...</td>\n",
       "    </tr>\n",
       "    <tr>\n",
       "      <th>2</th>\n",
       "      <td>[O, O, O, O, O, O, O, O, O, O, O, O, O, O, O, ...</td>\n",
       "      <td>[出, 的, 一, 本, 名, 為, 《, 神, 祕, 男, 人, 》, 的, 新, 書, ...</td>\n",
       "    </tr>\n",
       "    <tr>\n",
       "      <th>3</th>\n",
       "      <td>[O, O, O, O, O, O, O, O, O, O, O, O, O, O, O, ...</td>\n",
       "      <td>[這, 其, 中, 有, 沒, 有, 任, 何, 犯, 罪, ., 嗯, ,, 特, 別, ...</td>\n",
       "    </tr>\n",
       "    <tr>\n",
       "      <th>4</th>\n",
       "      <td>[O, O, O, O, O, O, O, O, O, O, O, O, O, O, O, ...</td>\n",
       "      <td>[作, 並, 且, 推, 薦, 了, 他, ,, 他, 才, 得, 到, 他, 的, 這, ...</td>\n",
       "    </tr>\n",
       "  </tbody>\n",
       "</table>\n",
       "</div>"
      ],
      "text/plain": [
       "                                       tags_encoding  \\\n",
       "0  [O, O, O, O, O, O, O, O, O, O, O, O, O, O, O, ...   \n",
       "1  [O, O, O, O, O, O, O, O, O, O, O, O, O, O, O, ...   \n",
       "2  [O, O, O, O, O, O, O, O, O, O, O, O, O, O, O, ...   \n",
       "3  [O, O, O, O, O, O, O, O, O, O, O, O, O, O, O, ...   \n",
       "4  [O, O, O, O, O, O, O, O, O, O, O, O, O, O, O, ...   \n",
       "\n",
       "                                               words  \n",
       "0  [各, 位, 好, ,, 歡, 迎, 您, 收, 看, 國, 際, 頻, 道, 的, 今, ...  \n",
       "1  [流, 感, ,, 我, 想, 這, 呢, 應, 該, 是, 非, 常, 正, 確, 的, ...  \n",
       "2  [出, 的, 一, 本, 名, 為, 《, 神, 祕, 男, 人, 》, 的, 新, 書, ...  \n",
       "3  [這, 其, 中, 有, 沒, 有, 任, 何, 犯, 罪, ., 嗯, ,, 特, 別, ...  \n",
       "4  [作, 並, 且, 推, 薦, 了, 他, ,, 他, 才, 得, 到, 他, 的, 這, ...  "
      ]
     },
     "execution_count": 5,
     "metadata": {},
     "output_type": "execute_result"
    }
   ],
   "source": [
    "df_train.head()"
   ]
  },
  {
   "cell_type": "code",
   "execution_count": 6,
   "id": "99c617e5-6b07-477c-96b5-c98e38a17f1b",
   "metadata": {
    "tags": []
   },
   "outputs": [
    {
     "name": "stderr",
     "output_type": "stream",
     "text": [
      "Using TensorFlow backend.\n",
      "C:\\Users\\User\\Anaconda3\\envs\\torch_3\\lib\\site-packages\\tensorflow\\python\\framework\\dtypes.py:519: FutureWarning: Passing (type, 1) or '1type' as a synonym of type is deprecated; in a future version of numpy, it will be understood as (type, (1,)) / '(1,)type'.\n",
      "  _np_qint8 = np.dtype([(\"qint8\", np.int8, 1)])\n",
      "C:\\Users\\User\\Anaconda3\\envs\\torch_3\\lib\\site-packages\\tensorflow\\python\\framework\\dtypes.py:520: FutureWarning: Passing (type, 1) or '1type' as a synonym of type is deprecated; in a future version of numpy, it will be understood as (type, (1,)) / '(1,)type'.\n",
      "  _np_quint8 = np.dtype([(\"quint8\", np.uint8, 1)])\n",
      "C:\\Users\\User\\Anaconda3\\envs\\torch_3\\lib\\site-packages\\tensorflow\\python\\framework\\dtypes.py:521: FutureWarning: Passing (type, 1) or '1type' as a synonym of type is deprecated; in a future version of numpy, it will be understood as (type, (1,)) / '(1,)type'.\n",
      "  _np_qint16 = np.dtype([(\"qint16\", np.int16, 1)])\n",
      "C:\\Users\\User\\Anaconda3\\envs\\torch_3\\lib\\site-packages\\tensorflow\\python\\framework\\dtypes.py:522: FutureWarning: Passing (type, 1) or '1type' as a synonym of type is deprecated; in a future version of numpy, it will be understood as (type, (1,)) / '(1,)type'.\n",
      "  _np_quint16 = np.dtype([(\"quint16\", np.uint16, 1)])\n",
      "C:\\Users\\User\\Anaconda3\\envs\\torch_3\\lib\\site-packages\\tensorflow\\python\\framework\\dtypes.py:523: FutureWarning: Passing (type, 1) or '1type' as a synonym of type is deprecated; in a future version of numpy, it will be understood as (type, (1,)) / '(1,)type'.\n",
      "  _np_qint32 = np.dtype([(\"qint32\", np.int32, 1)])\n",
      "C:\\Users\\User\\Anaconda3\\envs\\torch_3\\lib\\site-packages\\tensorflow\\python\\framework\\dtypes.py:528: FutureWarning: Passing (type, 1) or '1type' as a synonym of type is deprecated; in a future version of numpy, it will be understood as (type, (1,)) / '(1,)type'.\n",
      "  np_resource = np.dtype([(\"resource\", np.ubyte, 1)])\n"
     ]
    }
   ],
   "source": [
    "from module.Modeler import modeler"
   ]
  },
  {
   "cell_type": "code",
   "execution_count": 7,
   "id": "13471374-f877-4f5b-b831-c25bf49908f6",
   "metadata": {
    "tags": []
   },
   "outputs": [],
   "source": [
    "Modeler = modeler(\"../ckip-base-chinese-ner\",\"EVENT\")"
   ]
  },
  {
   "cell_type": "code",
   "execution_count": 8,
   "id": "db976448-ba9f-4e21-95f8-6718d15321bf",
   "metadata": {
    "tags": []
   },
   "outputs": [
    {
     "name": "stderr",
     "output_type": "stream",
     "text": [
      "C:\\Users\\User\\Tim\\kaggle\\公司NER\\timk_bert_ner\\module\\Modeler.py:75: UserWarning: To copy construct from a tensor, it is recommended to use sourceTensor.clone().detach() or sourceTensor.clone().detach().requires_grad_(True), rather than torch.tensor(sourceTensor).\n",
      "  tr_inputs = torch.tensor(tr_inputs).to(torch.int64)\n",
      "C:\\Users\\User\\Tim\\kaggle\\公司NER\\timk_bert_ner\\module\\Modeler.py:78: UserWarning: To copy construct from a tensor, it is recommended to use sourceTensor.clone().detach() or sourceTensor.clone().detach().requires_grad_(True), rather than torch.tensor(sourceTensor).\n",
      "  val_inputs = torch.tensor(val_inputs).to(torch.int64)\n",
      "C:\\Users\\User\\Tim\\kaggle\\公司NER\\timk_bert_ner\\module\\Modeler.py:81: UserWarning: To copy construct from a tensor, it is recommended to use sourceTensor.clone().detach() or sourceTensor.clone().detach().requires_grad_(True), rather than torch.tensor(sourceTensor).\n",
      "  tr_tags=torch.tensor(tr_tags, dtype=torch.long)\n",
      "C:\\Users\\User\\Tim\\kaggle\\公司NER\\timk_bert_ner\\module\\Modeler.py:84: UserWarning: To copy construct from a tensor, it is recommended to use sourceTensor.clone().detach() or sourceTensor.clone().detach().requires_grad_(True), rather than torch.tensor(sourceTensor).\n",
      "  val_tags=torch.tensor(val_tags, dtype=torch.long)\n"
     ]
    }
   ],
   "source": [
    "train_dataloader , valid_dataloader = Modeler.preprocess(df_train)"
   ]
  },
  {
   "cell_type": "code",
   "execution_count": 9,
   "id": "4e303035-6706-4a4f-8e18-a72253856742",
   "metadata": {},
   "outputs": [
    {
     "name": "stderr",
     "output_type": "stream",
     "text": [
      "Epoch:   0%|          | 0/3 [00:00<?, ?it/s]C:\\Users\\User\\Anaconda3\\envs\\torch_3\\lib\\site-packages\\seqeval\\metrics\\sequence_labeling.py:171: UserWarning: PAD seems not to be NE tag.\n",
      "  warnings.warn('{} seems not to be NE tag.'.format(chunk))\n",
      "Epoch:  33%|███▎      | 1/3 [00:00<00:01,  1.04it/s]"
     ]
    },
    {
     "name": "stdout",
     "output_type": "stream",
     "text": [
      "Average train loss: 1.837084134419759\n",
      "Validation loss: 1.39500892162323\n",
      "Validation Accuracy: 0.192\n",
      "Validation F1-Score: 0.0\n",
      "****************************************************************************************************\n"
     ]
    },
    {
     "name": "stderr",
     "output_type": "stream",
     "text": [
      "Epoch:  67%|██████▋   | 2/3 [00:01<00:00,  1.24it/s]"
     ]
    },
    {
     "name": "stdout",
     "output_type": "stream",
     "text": [
      "Average train loss: 1.1727029879887898\n",
      "Validation loss: 1.0102250576019287\n",
      "Validation Accuracy: 0.8493333333333334\n",
      "Validation F1-Score: 0.0\n",
      "****************************************************************************************************\n"
     ]
    },
    {
     "name": "stderr",
     "output_type": "stream",
     "text": [
      "Epoch: 100%|██████████| 3/3 [00:02<00:00,  1.28it/s]"
     ]
    },
    {
     "name": "stdout",
     "output_type": "stream",
     "text": [
      "Average train loss: 0.8352597951889038\n",
      "Validation loss: 0.8736280202865601\n",
      "Validation Accuracy: 0.8533333333333334\n",
      "Validation F1-Score: 0.0\n",
      "****************************************************************************************************\n"
     ]
    },
    {
     "name": "stderr",
     "output_type": "stream",
     "text": [
      "\n"
     ]
    },
    {
     "data": {
      "image/png": "[encoded data removed]",
      "text/plain": [
       "<Figure size 864x432 with 1 Axes>"
      ]
     },
     "metadata": {},
     "output_type": "display_data"
    }
   ],
   "source": [
    "ner_model = Modeler.train(\"../ckip-base-chinese-ner\",train_dataloader , valid_dataloader,save_model_path = 'model/')"
   ]
  },
  {
   "cell_type": "code",
   "execution_count": 11,
   "id": "295baa4a-bbab-4543-bf85-0631a899411d",
   "metadata": {},
   "outputs": [
    {
     "data": {
      "text/plain": [
       "'[CLS]什麼樣的記憶?敬請收看走遍中國特別節目,中國大地上的二戰標志之太行永志。[UNK]百團大戰(E-EVENT)紀念碑巍然屹立在太行(I-EVENT)山上,它由主碑,副碑,一座大型圓雕和烽火臺[SEP]'"
      ]
     },
     "execution_count": 11,
     "metadata": {},
     "output_type": "execute_result"
    }
   ],
   "source": [
    "txt = '''什麼樣的記憶?敬請收看走遍中國特別節目,中國大地上的二戰標志之太行永志。EMPTY百團大戰紀念碑巍然屹立在太行山上,它由主碑,副碑,一座大型圓雕和烽火臺'''\n",
    "output = Modeler.predict_for_one(txt,'model/')\n",
    "output"
   ]
  },
  {
   "cell_type": "code",
   "execution_count": null,
   "id": "4425d0ac-bcca-4ab4-9028-9ae71bb2e62b",
   "metadata": {},
   "outputs": [],
   "source": []
  },
  {
   "cell_type": "code",
   "execution_count": null,
   "id": "43ce5087-8f82-4c22-966a-ffe185affd50",
   "metadata": {},
   "outputs": [],
   "source": []
  }
 ],
 "metadata": {
  "kernelspec": {
   "display_name": "Python 3",
   "language": "python",
   "name": "python3"
  },
  "language_info": {
   "codemirror_mode": {
    "name": "ipython",
    "version": 3
   },
   "file_extension": ".py",
   "mimetype": "text/x-python",
   "name": "python",
   "nbconvert_exporter": "python",
   "pygments_lexer": "ipython3",
   "version": "3.6.13"
  }
 },
 "nbformat": 4,
 "nbformat_minor": 5
}
